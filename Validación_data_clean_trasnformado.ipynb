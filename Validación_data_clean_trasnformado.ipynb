{
  "nbformat": 4,
  "nbformat_minor": 0,
  "metadata": {
    "colab": {
      "provenance": []
    },
    "kernelspec": {
      "name": "python3",
      "display_name": "Python 3"
    },
    "language_info": {
      "name": "python"
    },
    "gpuClass": "standard",
    "accelerator": "GPU"
  },
  "cells": [
    {
      "cell_type": "markdown",
      "source": [
        "# Validación de la clasificación del datasdet como violencia política de genero con el modelo RoBERTuito que está entrenado para clasificar tuits en positivos, negativos y neutros.\n",
        "\n",
        "\n",
        "> Compara los tuits clasificados por medio del crowdsourcing como violencia política de género, con los tuits clasificados por modelo RoBERTuito como negativos.\n",
        "\n"
      ],
      "metadata": {
        "id": "38sHUXg5hUW1"
      }
    },
    {
      "cell_type": "markdown",
      "source": [
        "Instalación de dependencias"
      ],
      "metadata": {
        "id": "YzRiyYlFhNF3"
      }
    },
    {
      "cell_type": "code",
      "source": [
        "!pip install pysentimiento"
      ],
      "metadata": {
        "colab": {
          "base_uri": "https://localhost:8080/"
        },
        "id": "8_L4jIYGL8T0",
        "outputId": "308a9491-6738-44b5-856d-c0a031c09cba"
      },
      "execution_count": 1,
      "outputs": [
        {
          "output_type": "stream",
          "name": "stdout",
          "text": [
            "Looking in indexes: https://pypi.org/simple, https://us-python.pkg.dev/colab-wheels/public/simple/\n",
            "Requirement already satisfied: pysentimiento in /usr/local/lib/python3.8/dist-packages (0.5.2)\n",
            "Requirement already satisfied: datasets>=1.13.3 in /usr/local/lib/python3.8/dist-packages (from pysentimiento) (2.7.1)\n",
            "Requirement already satisfied: transformers>=4.13.0 in /usr/local/lib/python3.8/dist-packages (from pysentimiento) (4.25.1)\n",
            "Requirement already satisfied: torch in /usr/local/lib/python3.8/dist-packages (from pysentimiento) (1.13.0+cu116)\n",
            "Requirement already satisfied: emoji<2.0.0,>=1.6.1 in /usr/local/lib/python3.8/dist-packages (from pysentimiento) (1.7.0)\n",
            "Requirement already satisfied: huggingface-hub<1.0.0,>=0.2.0 in /usr/local/lib/python3.8/dist-packages (from datasets>=1.13.3->pysentimiento) (0.11.1)\n",
            "Requirement already satisfied: responses<0.19 in /usr/local/lib/python3.8/dist-packages (from datasets>=1.13.3->pysentimiento) (0.18.0)\n",
            "Requirement already satisfied: numpy>=1.17 in /usr/local/lib/python3.8/dist-packages (from datasets>=1.13.3->pysentimiento) (1.21.6)\n",
            "Requirement already satisfied: multiprocess in /usr/local/lib/python3.8/dist-packages (from datasets>=1.13.3->pysentimiento) (0.70.14)\n",
            "Requirement already satisfied: pandas in /usr/local/lib/python3.8/dist-packages (from datasets>=1.13.3->pysentimiento) (1.3.5)\n",
            "Requirement already satisfied: tqdm>=4.62.1 in /usr/local/lib/python3.8/dist-packages (from datasets>=1.13.3->pysentimiento) (4.64.1)\n",
            "Requirement already satisfied: requests>=2.19.0 in /usr/local/lib/python3.8/dist-packages (from datasets>=1.13.3->pysentimiento) (2.23.0)\n",
            "Requirement already satisfied: fsspec[http]>=2021.11.1 in /usr/local/lib/python3.8/dist-packages (from datasets>=1.13.3->pysentimiento) (2022.11.0)\n",
            "Requirement already satisfied: dill<0.3.7 in /usr/local/lib/python3.8/dist-packages (from datasets>=1.13.3->pysentimiento) (0.3.6)\n",
            "Requirement already satisfied: xxhash in /usr/local/lib/python3.8/dist-packages (from datasets>=1.13.3->pysentimiento) (3.1.0)\n",
            "Requirement already satisfied: aiohttp in /usr/local/lib/python3.8/dist-packages (from datasets>=1.13.3->pysentimiento) (3.8.3)\n",
            "Requirement already satisfied: packaging in /usr/local/lib/python3.8/dist-packages (from datasets>=1.13.3->pysentimiento) (21.3)\n",
            "Requirement already satisfied: pyyaml>=5.1 in /usr/local/lib/python3.8/dist-packages (from datasets>=1.13.3->pysentimiento) (6.0)\n",
            "Requirement already satisfied: pyarrow>=6.0.0 in /usr/local/lib/python3.8/dist-packages (from datasets>=1.13.3->pysentimiento) (9.0.0)\n",
            "Requirement already satisfied: charset-normalizer<3.0,>=2.0 in /usr/local/lib/python3.8/dist-packages (from aiohttp->datasets>=1.13.3->pysentimiento) (2.1.1)\n",
            "Requirement already satisfied: aiosignal>=1.1.2 in /usr/local/lib/python3.8/dist-packages (from aiohttp->datasets>=1.13.3->pysentimiento) (1.3.1)\n",
            "Requirement already satisfied: attrs>=17.3.0 in /usr/local/lib/python3.8/dist-packages (from aiohttp->datasets>=1.13.3->pysentimiento) (22.1.0)\n",
            "Requirement already satisfied: frozenlist>=1.1.1 in /usr/local/lib/python3.8/dist-packages (from aiohttp->datasets>=1.13.3->pysentimiento) (1.3.3)\n",
            "Requirement already satisfied: multidict<7.0,>=4.5 in /usr/local/lib/python3.8/dist-packages (from aiohttp->datasets>=1.13.3->pysentimiento) (6.0.3)\n",
            "Requirement already satisfied: async-timeout<5.0,>=4.0.0a3 in /usr/local/lib/python3.8/dist-packages (from aiohttp->datasets>=1.13.3->pysentimiento) (4.0.2)\n",
            "Requirement already satisfied: yarl<2.0,>=1.0 in /usr/local/lib/python3.8/dist-packages (from aiohttp->datasets>=1.13.3->pysentimiento) (1.8.2)\n",
            "Requirement already satisfied: filelock in /usr/local/lib/python3.8/dist-packages (from huggingface-hub<1.0.0,>=0.2.0->datasets>=1.13.3->pysentimiento) (3.8.0)\n",
            "Requirement already satisfied: typing-extensions>=3.7.4.3 in /usr/local/lib/python3.8/dist-packages (from huggingface-hub<1.0.0,>=0.2.0->datasets>=1.13.3->pysentimiento) (4.4.0)\n",
            "Requirement already satisfied: pyparsing!=3.0.5,>=2.0.2 in /usr/local/lib/python3.8/dist-packages (from packaging->datasets>=1.13.3->pysentimiento) (3.0.9)\n",
            "Requirement already satisfied: idna<3,>=2.5 in /usr/local/lib/python3.8/dist-packages (from requests>=2.19.0->datasets>=1.13.3->pysentimiento) (2.10)\n",
            "Requirement already satisfied: certifi>=2017.4.17 in /usr/local/lib/python3.8/dist-packages (from requests>=2.19.0->datasets>=1.13.3->pysentimiento) (2022.9.24)\n",
            "Requirement already satisfied: chardet<4,>=3.0.2 in /usr/local/lib/python3.8/dist-packages (from requests>=2.19.0->datasets>=1.13.3->pysentimiento) (3.0.4)\n",
            "Requirement already satisfied: urllib3!=1.25.0,!=1.25.1,<1.26,>=1.21.1 in /usr/local/lib/python3.8/dist-packages (from requests>=2.19.0->datasets>=1.13.3->pysentimiento) (1.25.11)\n",
            "Requirement already satisfied: regex!=2019.12.17 in /usr/local/lib/python3.8/dist-packages (from transformers>=4.13.0->pysentimiento) (2022.6.2)\n",
            "Requirement already satisfied: tokenizers!=0.11.3,<0.14,>=0.11.1 in /usr/local/lib/python3.8/dist-packages (from transformers>=4.13.0->pysentimiento) (0.13.2)\n",
            "Requirement already satisfied: pytz>=2017.3 in /usr/local/lib/python3.8/dist-packages (from pandas->datasets>=1.13.3->pysentimiento) (2022.6)\n",
            "Requirement already satisfied: python-dateutil>=2.7.3 in /usr/local/lib/python3.8/dist-packages (from pandas->datasets>=1.13.3->pysentimiento) (2.8.2)\n",
            "Requirement already satisfied: six>=1.5 in /usr/local/lib/python3.8/dist-packages (from python-dateutil>=2.7.3->pandas->datasets>=1.13.3->pysentimiento) (1.15.0)\n"
          ]
        }
      ]
    },
    {
      "cell_type": "code",
      "source": [
        "!pip install transformers"
      ],
      "metadata": {
        "colab": {
          "base_uri": "https://localhost:8080/"
        },
        "id": "J6CxguOo3Gk4",
        "outputId": "34c0e65d-0877-432b-b50e-51aa72ebf309"
      },
      "execution_count": 2,
      "outputs": [
        {
          "output_type": "stream",
          "name": "stdout",
          "text": [
            "Looking in indexes: https://pypi.org/simple, https://us-python.pkg.dev/colab-wheels/public/simple/\n",
            "Requirement already satisfied: transformers in /usr/local/lib/python3.8/dist-packages (4.25.1)\n",
            "Requirement already satisfied: regex!=2019.12.17 in /usr/local/lib/python3.8/dist-packages (from transformers) (2022.6.2)\n",
            "Requirement already satisfied: requests in /usr/local/lib/python3.8/dist-packages (from transformers) (2.23.0)\n",
            "Requirement already satisfied: pyyaml>=5.1 in /usr/local/lib/python3.8/dist-packages (from transformers) (6.0)\n",
            "Requirement already satisfied: packaging>=20.0 in /usr/local/lib/python3.8/dist-packages (from transformers) (21.3)\n",
            "Requirement already satisfied: huggingface-hub<1.0,>=0.10.0 in /usr/local/lib/python3.8/dist-packages (from transformers) (0.11.1)\n",
            "Requirement already satisfied: filelock in /usr/local/lib/python3.8/dist-packages (from transformers) (3.8.0)\n",
            "Requirement already satisfied: tqdm>=4.27 in /usr/local/lib/python3.8/dist-packages (from transformers) (4.64.1)\n",
            "Requirement already satisfied: numpy>=1.17 in /usr/local/lib/python3.8/dist-packages (from transformers) (1.21.6)\n",
            "Requirement already satisfied: tokenizers!=0.11.3,<0.14,>=0.11.1 in /usr/local/lib/python3.8/dist-packages (from transformers) (0.13.2)\n",
            "Requirement already satisfied: typing-extensions>=3.7.4.3 in /usr/local/lib/python3.8/dist-packages (from huggingface-hub<1.0,>=0.10.0->transformers) (4.4.0)\n",
            "Requirement already satisfied: pyparsing!=3.0.5,>=2.0.2 in /usr/local/lib/python3.8/dist-packages (from packaging>=20.0->transformers) (3.0.9)\n",
            "Requirement already satisfied: certifi>=2017.4.17 in /usr/local/lib/python3.8/dist-packages (from requests->transformers) (2022.9.24)\n",
            "Requirement already satisfied: idna<3,>=2.5 in /usr/local/lib/python3.8/dist-packages (from requests->transformers) (2.10)\n",
            "Requirement already satisfied: urllib3!=1.25.0,!=1.25.1,<1.26,>=1.21.1 in /usr/local/lib/python3.8/dist-packages (from requests->transformers) (1.25.11)\n",
            "Requirement already satisfied: chardet<4,>=3.0.2 in /usr/local/lib/python3.8/dist-packages (from requests->transformers) (3.0.4)\n"
          ]
        }
      ]
    },
    {
      "cell_type": "code",
      "source": [
        "import pandas as pd"
      ],
      "metadata": {
        "id": "Lh7mhaVoljn0"
      },
      "execution_count": 3,
      "outputs": []
    },
    {
      "cell_type": "markdown",
      "source": [
        "Cargar Dataset"
      ],
      "metadata": {
        "id": "ylJUFh_Vis64"
      }
    },
    {
      "cell_type": "code",
      "source": [
        "from google.colab import drive\n",
        "drive.mount('/content/drive')"
      ],
      "metadata": {
        "colab": {
          "base_uri": "https://localhost:8080/"
        },
        "id": "DgI5zySuMlkS",
        "outputId": "8c59e272-8c01-492f-d708-d17676070502"
      },
      "execution_count": 4,
      "outputs": [
        {
          "output_type": "stream",
          "name": "stdout",
          "text": [
            "Drive already mounted at /content/drive; to attempt to forcibly remount, call drive.mount(\"/content/drive\", force_remount=True).\n"
          ]
        }
      ]
    },
    {
      "cell_type": "code",
      "source": [
        "datos_C=pd.read_csv('/content/drive/MyDrive/ViolenciaPoíticaDeGénero/Transformación/data_clean_clasificado.csv')\n",
        "datos_C.dropna(inplace = True)\n",
        "datos_C.head(10)"
      ],
      "metadata": {
        "colab": {
          "base_uri": "https://localhost:8080/",
          "height": 363
        },
        "id": "9m2sgUDmtiti",
        "outputId": "50b3d2c4-8a08-4602-a10d-2464fe7af70c"
      },
      "execution_count": 5,
      "outputs": [
        {
          "output_type": "execute_result",
          "data": {
            "text/plain": [
              "   id                                               text  \\\n",
              "0   0  las glosas de muñoz que se quede para financia...   \n",
              "1   1                        usted pavel un gran alcalde   \n",
              "2   2  dígame una ley que hacen desde la asamblea par...   \n",
              "3   3  el dinero de los afiliados al iess que desapar...   \n",
              "4   4                   de este caso me estaba acordando   \n",
              "5   5  ojalá no sea la misma innovación de la roboluc...   \n",
              "6   6         habló la que se ganó tres veces la lotería   \n",
              "7   7  recuerda ese argentino que le dieron tremendo ...   \n",
              "8   8  pierrina calladita tu hermano es el que ha sac...   \n",
              "9   9  siempre sido asi los únicos que se llenan los ...   \n",
              "\n",
              "                              task  \n",
              "0  no violencia política de género  \n",
              "1  no violencia política de género  \n",
              "2  no violencia política de género  \n",
              "3  no violencia política de género  \n",
              "4  no violencia política de género  \n",
              "5  no violencia política de género  \n",
              "6  no violencia política de género  \n",
              "7  no violencia política de género  \n",
              "8     violencia política de género  \n",
              "9  no violencia política de género  "
            ],
            "text/html": [
              "\n",
              "  <div id=\"df-505ff3f5-9f95-4290-b2a9-fdac970d3371\">\n",
              "    <div class=\"colab-df-container\">\n",
              "      <div>\n",
              "<style scoped>\n",
              "    .dataframe tbody tr th:only-of-type {\n",
              "        vertical-align: middle;\n",
              "    }\n",
              "\n",
              "    .dataframe tbody tr th {\n",
              "        vertical-align: top;\n",
              "    }\n",
              "\n",
              "    .dataframe thead th {\n",
              "        text-align: right;\n",
              "    }\n",
              "</style>\n",
              "<table border=\"1\" class=\"dataframe\">\n",
              "  <thead>\n",
              "    <tr style=\"text-align: right;\">\n",
              "      <th></th>\n",
              "      <th>id</th>\n",
              "      <th>text</th>\n",
              "      <th>task</th>\n",
              "    </tr>\n",
              "  </thead>\n",
              "  <tbody>\n",
              "    <tr>\n",
              "      <th>0</th>\n",
              "      <td>0</td>\n",
              "      <td>las glosas de muñoz que se quede para financia...</td>\n",
              "      <td>no violencia política de género</td>\n",
              "    </tr>\n",
              "    <tr>\n",
              "      <th>1</th>\n",
              "      <td>1</td>\n",
              "      <td>usted pavel un gran alcalde</td>\n",
              "      <td>no violencia política de género</td>\n",
              "    </tr>\n",
              "    <tr>\n",
              "      <th>2</th>\n",
              "      <td>2</td>\n",
              "      <td>dígame una ley que hacen desde la asamblea par...</td>\n",
              "      <td>no violencia política de género</td>\n",
              "    </tr>\n",
              "    <tr>\n",
              "      <th>3</th>\n",
              "      <td>3</td>\n",
              "      <td>el dinero de los afiliados al iess que desapar...</td>\n",
              "      <td>no violencia política de género</td>\n",
              "    </tr>\n",
              "    <tr>\n",
              "      <th>4</th>\n",
              "      <td>4</td>\n",
              "      <td>de este caso me estaba acordando</td>\n",
              "      <td>no violencia política de género</td>\n",
              "    </tr>\n",
              "    <tr>\n",
              "      <th>5</th>\n",
              "      <td>5</td>\n",
              "      <td>ojalá no sea la misma innovación de la roboluc...</td>\n",
              "      <td>no violencia política de género</td>\n",
              "    </tr>\n",
              "    <tr>\n",
              "      <th>6</th>\n",
              "      <td>6</td>\n",
              "      <td>habló la que se ganó tres veces la lotería</td>\n",
              "      <td>no violencia política de género</td>\n",
              "    </tr>\n",
              "    <tr>\n",
              "      <th>7</th>\n",
              "      <td>7</td>\n",
              "      <td>recuerda ese argentino que le dieron tremendo ...</td>\n",
              "      <td>no violencia política de género</td>\n",
              "    </tr>\n",
              "    <tr>\n",
              "      <th>8</th>\n",
              "      <td>8</td>\n",
              "      <td>pierrina calladita tu hermano es el que ha sac...</td>\n",
              "      <td>violencia política de género</td>\n",
              "    </tr>\n",
              "    <tr>\n",
              "      <th>9</th>\n",
              "      <td>9</td>\n",
              "      <td>siempre sido asi los únicos que se llenan los ...</td>\n",
              "      <td>no violencia política de género</td>\n",
              "    </tr>\n",
              "  </tbody>\n",
              "</table>\n",
              "</div>\n",
              "      <button class=\"colab-df-convert\" onclick=\"convertToInteractive('df-505ff3f5-9f95-4290-b2a9-fdac970d3371')\"\n",
              "              title=\"Convert this dataframe to an interactive table.\"\n",
              "              style=\"display:none;\">\n",
              "        \n",
              "  <svg xmlns=\"http://www.w3.org/2000/svg\" height=\"24px\"viewBox=\"0 0 24 24\"\n",
              "       width=\"24px\">\n",
              "    <path d=\"M0 0h24v24H0V0z\" fill=\"none\"/>\n",
              "    <path d=\"M18.56 5.44l.94 2.06.94-2.06 2.06-.94-2.06-.94-.94-2.06-.94 2.06-2.06.94zm-11 1L8.5 8.5l.94-2.06 2.06-.94-2.06-.94L8.5 2.5l-.94 2.06-2.06.94zm10 10l.94 2.06.94-2.06 2.06-.94-2.06-.94-.94-2.06-.94 2.06-2.06.94z\"/><path d=\"M17.41 7.96l-1.37-1.37c-.4-.4-.92-.59-1.43-.59-.52 0-1.04.2-1.43.59L10.3 9.45l-7.72 7.72c-.78.78-.78 2.05 0 2.83L4 21.41c.39.39.9.59 1.41.59.51 0 1.02-.2 1.41-.59l7.78-7.78 2.81-2.81c.8-.78.8-2.07 0-2.86zM5.41 20L4 18.59l7.72-7.72 1.47 1.35L5.41 20z\"/>\n",
              "  </svg>\n",
              "      </button>\n",
              "      \n",
              "  <style>\n",
              "    .colab-df-container {\n",
              "      display:flex;\n",
              "      flex-wrap:wrap;\n",
              "      gap: 12px;\n",
              "    }\n",
              "\n",
              "    .colab-df-convert {\n",
              "      background-color: #E8F0FE;\n",
              "      border: none;\n",
              "      border-radius: 50%;\n",
              "      cursor: pointer;\n",
              "      display: none;\n",
              "      fill: #1967D2;\n",
              "      height: 32px;\n",
              "      padding: 0 0 0 0;\n",
              "      width: 32px;\n",
              "    }\n",
              "\n",
              "    .colab-df-convert:hover {\n",
              "      background-color: #E2EBFA;\n",
              "      box-shadow: 0px 1px 2px rgba(60, 64, 67, 0.3), 0px 1px 3px 1px rgba(60, 64, 67, 0.15);\n",
              "      fill: #174EA6;\n",
              "    }\n",
              "\n",
              "    [theme=dark] .colab-df-convert {\n",
              "      background-color: #3B4455;\n",
              "      fill: #D2E3FC;\n",
              "    }\n",
              "\n",
              "    [theme=dark] .colab-df-convert:hover {\n",
              "      background-color: #434B5C;\n",
              "      box-shadow: 0px 1px 3px 1px rgba(0, 0, 0, 0.15);\n",
              "      filter: drop-shadow(0px 1px 2px rgba(0, 0, 0, 0.3));\n",
              "      fill: #FFFFFF;\n",
              "    }\n",
              "  </style>\n",
              "\n",
              "      <script>\n",
              "        const buttonEl =\n",
              "          document.querySelector('#df-505ff3f5-9f95-4290-b2a9-fdac970d3371 button.colab-df-convert');\n",
              "        buttonEl.style.display =\n",
              "          google.colab.kernel.accessAllowed ? 'block' : 'none';\n",
              "\n",
              "        async function convertToInteractive(key) {\n",
              "          const element = document.querySelector('#df-505ff3f5-9f95-4290-b2a9-fdac970d3371');\n",
              "          const dataTable =\n",
              "            await google.colab.kernel.invokeFunction('convertToInteractive',\n",
              "                                                     [key], {});\n",
              "          if (!dataTable) return;\n",
              "\n",
              "          const docLinkHtml = 'Like what you see? Visit the ' +\n",
              "            '<a target=\"_blank\" href=https://colab.research.google.com/notebooks/data_table.ipynb>data table notebook</a>'\n",
              "            + ' to learn more about interactive tables.';\n",
              "          element.innerHTML = '';\n",
              "          dataTable['output_type'] = 'display_data';\n",
              "          await google.colab.output.renderOutput(dataTable, element);\n",
              "          const docLink = document.createElement('div');\n",
              "          docLink.innerHTML = docLinkHtml;\n",
              "          element.appendChild(docLink);\n",
              "        }\n",
              "      </script>\n",
              "    </div>\n",
              "  </div>\n",
              "  "
            ]
          },
          "metadata": {},
          "execution_count": 5
        }
      ]
    },
    {
      "cell_type": "markdown",
      "source": [
        "Cargar Modelo"
      ],
      "metadata": {
        "id": "7feHHLXYi1yv"
      }
    },
    {
      "cell_type": "code",
      "source": [
        "from transformers import AutoModelForSequenceClassification\n",
        "model_name = \"pysentimiento/robertuito-base-cased\"\n",
        "model = AutoModelForSequenceClassification.from_pretrained(model_name)"
      ],
      "metadata": {
        "colab": {
          "base_uri": "https://localhost:8080/"
        },
        "id": "Q-fuHZ7GvrlQ",
        "outputId": "b43d5b84-dc03-4953-a350-7f8e3f94a4c5"
      },
      "execution_count": 6,
      "outputs": [
        {
          "output_type": "stream",
          "name": "stderr",
          "text": [
            "Some weights of the model checkpoint at pysentimiento/robertuito-base-cased were not used when initializing RobertaForSequenceClassification: ['lm_head.layer_norm.weight', 'lm_head.dense.bias', 'lm_head.dense.weight', 'lm_head.bias', 'lm_head.layer_norm.bias']\n",
            "- This IS expected if you are initializing RobertaForSequenceClassification from the checkpoint of a model trained on another task or with another architecture (e.g. initializing a BertForSequenceClassification model from a BertForPreTraining model).\n",
            "- This IS NOT expected if you are initializing RobertaForSequenceClassification from the checkpoint of a model that you expect to be exactly identical (initializing a BertForSequenceClassification model from a BertForSequenceClassification model).\n",
            "Some weights of RobertaForSequenceClassification were not initialized from the model checkpoint at pysentimiento/robertuito-base-cased and are newly initialized: ['classifier.out_proj.bias', 'classifier.dense.bias', 'classifier.dense.weight', 'classifier.out_proj.weight']\n",
            "You should probably TRAIN this model on a down-stream task to be able to use it for predictions and inference.\n"
          ]
        }
      ]
    },
    {
      "cell_type": "markdown",
      "source": [
        "Crear analizador"
      ],
      "metadata": {
        "id": "k0n2_BBbl3bC"
      }
    },
    {
      "cell_type": "code",
      "source": [
        "from pysentimiento import create_analyzer\n",
        "analyzer = create_analyzer(task=\"sentiment\", lang=\"es\")"
      ],
      "metadata": {
        "id": "-VuNOBpH9JUC"
      },
      "execution_count": 7,
      "outputs": []
    },
    {
      "cell_type": "markdown",
      "source": [
        "Clasificar con el Modelo la columna text del dataset"
      ],
      "metadata": {
        "id": "5I_gLsR0jfug"
      }
    },
    {
      "cell_type": "code",
      "source": [
        "labels = []\n",
        "for i in datos_C['text']:\n",
        "  labels.append(analyzer.predict(i))"
      ],
      "metadata": {
        "id": "cxIImdsmucVh"
      },
      "execution_count": 8,
      "outputs": []
    },
    {
      "cell_type": "code",
      "source": [
        "data_labels = pd.DataFrame({'id': datos_C['id'], 'text': datos_C['text'],'task': datos_C['task'], 'labels': [i.output for i in labels]})\n",
        "data_labels.head(10)"
      ],
      "metadata": {
        "colab": {
          "base_uri": "https://localhost:8080/",
          "height": 363
        },
        "id": "HJWCeMDTzzeC",
        "outputId": "41cfeb76-179d-4ea5-c4ca-2e0b6b47ca17"
      },
      "execution_count": 9,
      "outputs": [
        {
          "output_type": "execute_result",
          "data": {
            "text/plain": [
              "   id                                               text  \\\n",
              "0   0  las glosas de muñoz que se quede para financia...   \n",
              "1   1                        usted pavel un gran alcalde   \n",
              "2   2  dígame una ley que hacen desde la asamblea par...   \n",
              "3   3  el dinero de los afiliados al iess que desapar...   \n",
              "4   4                   de este caso me estaba acordando   \n",
              "5   5  ojalá no sea la misma innovación de la roboluc...   \n",
              "6   6         habló la que se ganó tres veces la lotería   \n",
              "7   7  recuerda ese argentino que le dieron tremendo ...   \n",
              "8   8  pierrina calladita tu hermano es el que ha sac...   \n",
              "9   9  siempre sido asi los únicos que se llenan los ...   \n",
              "\n",
              "                              task labels  \n",
              "0  no violencia política de género    NEG  \n",
              "1  no violencia política de género    POS  \n",
              "2  no violencia política de género    NEG  \n",
              "3  no violencia política de género    NEU  \n",
              "4  no violencia política de género    NEU  \n",
              "5  no violencia política de género    NEG  \n",
              "6  no violencia política de género    NEU  \n",
              "7  no violencia política de género    NEG  \n",
              "8     violencia política de género    NEG  \n",
              "9  no violencia política de género    NEG  "
            ],
            "text/html": [
              "\n",
              "  <div id=\"df-7851d252-25a1-42c9-a4e8-ddd4b93e89f9\">\n",
              "    <div class=\"colab-df-container\">\n",
              "      <div>\n",
              "<style scoped>\n",
              "    .dataframe tbody tr th:only-of-type {\n",
              "        vertical-align: middle;\n",
              "    }\n",
              "\n",
              "    .dataframe tbody tr th {\n",
              "        vertical-align: top;\n",
              "    }\n",
              "\n",
              "    .dataframe thead th {\n",
              "        text-align: right;\n",
              "    }\n",
              "</style>\n",
              "<table border=\"1\" class=\"dataframe\">\n",
              "  <thead>\n",
              "    <tr style=\"text-align: right;\">\n",
              "      <th></th>\n",
              "      <th>id</th>\n",
              "      <th>text</th>\n",
              "      <th>task</th>\n",
              "      <th>labels</th>\n",
              "    </tr>\n",
              "  </thead>\n",
              "  <tbody>\n",
              "    <tr>\n",
              "      <th>0</th>\n",
              "      <td>0</td>\n",
              "      <td>las glosas de muñoz que se quede para financia...</td>\n",
              "      <td>no violencia política de género</td>\n",
              "      <td>NEG</td>\n",
              "    </tr>\n",
              "    <tr>\n",
              "      <th>1</th>\n",
              "      <td>1</td>\n",
              "      <td>usted pavel un gran alcalde</td>\n",
              "      <td>no violencia política de género</td>\n",
              "      <td>POS</td>\n",
              "    </tr>\n",
              "    <tr>\n",
              "      <th>2</th>\n",
              "      <td>2</td>\n",
              "      <td>dígame una ley que hacen desde la asamblea par...</td>\n",
              "      <td>no violencia política de género</td>\n",
              "      <td>NEG</td>\n",
              "    </tr>\n",
              "    <tr>\n",
              "      <th>3</th>\n",
              "      <td>3</td>\n",
              "      <td>el dinero de los afiliados al iess que desapar...</td>\n",
              "      <td>no violencia política de género</td>\n",
              "      <td>NEU</td>\n",
              "    </tr>\n",
              "    <tr>\n",
              "      <th>4</th>\n",
              "      <td>4</td>\n",
              "      <td>de este caso me estaba acordando</td>\n",
              "      <td>no violencia política de género</td>\n",
              "      <td>NEU</td>\n",
              "    </tr>\n",
              "    <tr>\n",
              "      <th>5</th>\n",
              "      <td>5</td>\n",
              "      <td>ojalá no sea la misma innovación de la roboluc...</td>\n",
              "      <td>no violencia política de género</td>\n",
              "      <td>NEG</td>\n",
              "    </tr>\n",
              "    <tr>\n",
              "      <th>6</th>\n",
              "      <td>6</td>\n",
              "      <td>habló la que se ganó tres veces la lotería</td>\n",
              "      <td>no violencia política de género</td>\n",
              "      <td>NEU</td>\n",
              "    </tr>\n",
              "    <tr>\n",
              "      <th>7</th>\n",
              "      <td>7</td>\n",
              "      <td>recuerda ese argentino que le dieron tremendo ...</td>\n",
              "      <td>no violencia política de género</td>\n",
              "      <td>NEG</td>\n",
              "    </tr>\n",
              "    <tr>\n",
              "      <th>8</th>\n",
              "      <td>8</td>\n",
              "      <td>pierrina calladita tu hermano es el que ha sac...</td>\n",
              "      <td>violencia política de género</td>\n",
              "      <td>NEG</td>\n",
              "    </tr>\n",
              "    <tr>\n",
              "      <th>9</th>\n",
              "      <td>9</td>\n",
              "      <td>siempre sido asi los únicos que se llenan los ...</td>\n",
              "      <td>no violencia política de género</td>\n",
              "      <td>NEG</td>\n",
              "    </tr>\n",
              "  </tbody>\n",
              "</table>\n",
              "</div>\n",
              "      <button class=\"colab-df-convert\" onclick=\"convertToInteractive('df-7851d252-25a1-42c9-a4e8-ddd4b93e89f9')\"\n",
              "              title=\"Convert this dataframe to an interactive table.\"\n",
              "              style=\"display:none;\">\n",
              "        \n",
              "  <svg xmlns=\"http://www.w3.org/2000/svg\" height=\"24px\"viewBox=\"0 0 24 24\"\n",
              "       width=\"24px\">\n",
              "    <path d=\"M0 0h24v24H0V0z\" fill=\"none\"/>\n",
              "    <path d=\"M18.56 5.44l.94 2.06.94-2.06 2.06-.94-2.06-.94-.94-2.06-.94 2.06-2.06.94zm-11 1L8.5 8.5l.94-2.06 2.06-.94-2.06-.94L8.5 2.5l-.94 2.06-2.06.94zm10 10l.94 2.06.94-2.06 2.06-.94-2.06-.94-.94-2.06-.94 2.06-2.06.94z\"/><path d=\"M17.41 7.96l-1.37-1.37c-.4-.4-.92-.59-1.43-.59-.52 0-1.04.2-1.43.59L10.3 9.45l-7.72 7.72c-.78.78-.78 2.05 0 2.83L4 21.41c.39.39.9.59 1.41.59.51 0 1.02-.2 1.41-.59l7.78-7.78 2.81-2.81c.8-.78.8-2.07 0-2.86zM5.41 20L4 18.59l7.72-7.72 1.47 1.35L5.41 20z\"/>\n",
              "  </svg>\n",
              "      </button>\n",
              "      \n",
              "  <style>\n",
              "    .colab-df-container {\n",
              "      display:flex;\n",
              "      flex-wrap:wrap;\n",
              "      gap: 12px;\n",
              "    }\n",
              "\n",
              "    .colab-df-convert {\n",
              "      background-color: #E8F0FE;\n",
              "      border: none;\n",
              "      border-radius: 50%;\n",
              "      cursor: pointer;\n",
              "      display: none;\n",
              "      fill: #1967D2;\n",
              "      height: 32px;\n",
              "      padding: 0 0 0 0;\n",
              "      width: 32px;\n",
              "    }\n",
              "\n",
              "    .colab-df-convert:hover {\n",
              "      background-color: #E2EBFA;\n",
              "      box-shadow: 0px 1px 2px rgba(60, 64, 67, 0.3), 0px 1px 3px 1px rgba(60, 64, 67, 0.15);\n",
              "      fill: #174EA6;\n",
              "    }\n",
              "\n",
              "    [theme=dark] .colab-df-convert {\n",
              "      background-color: #3B4455;\n",
              "      fill: #D2E3FC;\n",
              "    }\n",
              "\n",
              "    [theme=dark] .colab-df-convert:hover {\n",
              "      background-color: #434B5C;\n",
              "      box-shadow: 0px 1px 3px 1px rgba(0, 0, 0, 0.15);\n",
              "      filter: drop-shadow(0px 1px 2px rgba(0, 0, 0, 0.3));\n",
              "      fill: #FFFFFF;\n",
              "    }\n",
              "  </style>\n",
              "\n",
              "      <script>\n",
              "        const buttonEl =\n",
              "          document.querySelector('#df-7851d252-25a1-42c9-a4e8-ddd4b93e89f9 button.colab-df-convert');\n",
              "        buttonEl.style.display =\n",
              "          google.colab.kernel.accessAllowed ? 'block' : 'none';\n",
              "\n",
              "        async function convertToInteractive(key) {\n",
              "          const element = document.querySelector('#df-7851d252-25a1-42c9-a4e8-ddd4b93e89f9');\n",
              "          const dataTable =\n",
              "            await google.colab.kernel.invokeFunction('convertToInteractive',\n",
              "                                                     [key], {});\n",
              "          if (!dataTable) return;\n",
              "\n",
              "          const docLinkHtml = 'Like what you see? Visit the ' +\n",
              "            '<a target=\"_blank\" href=https://colab.research.google.com/notebooks/data_table.ipynb>data table notebook</a>'\n",
              "            + ' to learn more about interactive tables.';\n",
              "          element.innerHTML = '';\n",
              "          dataTable['output_type'] = 'display_data';\n",
              "          await google.colab.output.renderOutput(dataTable, element);\n",
              "          const docLink = document.createElement('div');\n",
              "          docLink.innerHTML = docLinkHtml;\n",
              "          element.appendChild(docLink);\n",
              "        }\n",
              "      </script>\n",
              "    </div>\n",
              "  </div>\n",
              "  "
            ]
          },
          "metadata": {},
          "execution_count": 9
        }
      ]
    },
    {
      "cell_type": "markdown",
      "source": [
        "Comparar los tuits clasificados como violencia política de género, con los tuits clasificados por modelo RoBERTuito como negativos."
      ],
      "metadata": {
        "id": "uxEQ6C3bkMOs"
      }
    },
    {
      "cell_type": "code",
      "source": [
        "compare = []\n",
        "for i in range(len(data_labels)):\n",
        "  if data_labels['labels'][i] == 'NEG' and data_labels['task'][i][:9] == 'violencia':\n",
        "    compare.append(1)\n",
        "  else:\n",
        "    compare.append(0)"
      ],
      "metadata": {
        "id": "5QGrQ2tF_C4Y"
      },
      "execution_count": 10,
      "outputs": []
    },
    {
      "cell_type": "code",
      "source": [
        "df = pd.DataFrame({'id': datos_C['id'], 'text': datos_C['text'], 'task': datos_C['task'], 'labels': [i.output for i in labels], 'compare': compare})\n",
        "df.head(20)"
      ],
      "metadata": {
        "colab": {
          "base_uri": "https://localhost:8080/",
          "height": 676
        },
        "id": "7jWD7QKKDPV7",
        "outputId": "9cad6587-abf8-470f-dd6a-97039f5d91f7"
      },
      "execution_count": 11,
      "outputs": [
        {
          "output_type": "execute_result",
          "data": {
            "text/plain": [
              "    id                                               text  \\\n",
              "0    0  las glosas de muñoz que se quede para financia...   \n",
              "1    1                        usted pavel un gran alcalde   \n",
              "2    2  dígame una ley que hacen desde la asamblea par...   \n",
              "3    3  el dinero de los afiliados al iess que desapar...   \n",
              "4    4                   de este caso me estaba acordando   \n",
              "5    5  ojalá no sea la misma innovación de la roboluc...   \n",
              "6    6         habló la que se ganó tres veces la lotería   \n",
              "7    7  recuerda ese argentino que le dieron tremendo ...   \n",
              "8    8  pierrina calladita tu hermano es el que ha sac...   \n",
              "9    9  siempre sido asi los únicos que se llenan los ...   \n",
              "10  10  así es estimada asambleísta de nada sirve tene...   \n",
              "11  11              jajajajaja jajajajaja todavia crítica   \n",
              "12  12                                     dejen de robar   \n",
              "13  13                  rc nefastos destruyeron la patria   \n",
              "14  14                                      asi mas claro   \n",
              "15  15  creativos esa propaganda la utilizó jamil maha...   \n",
              "16  16                                     que asco jamás   \n",
              "17  17  no deseo ser ofensivo pero eres parte de este ...   \n",
              "18  18  vergüenza debe de darte por escribir tanta inc...   \n",
              "19  19  nuestra apuesta es que no vas ganar ni experie...   \n",
              "\n",
              "                               task labels  compare  \n",
              "0   no violencia política de género    NEG        0  \n",
              "1   no violencia política de género    POS        0  \n",
              "2   no violencia política de género    NEG        0  \n",
              "3   no violencia política de género    NEU        0  \n",
              "4   no violencia política de género    NEU        0  \n",
              "5   no violencia política de género    NEG        0  \n",
              "6   no violencia política de género    NEU        0  \n",
              "7   no violencia política de género    NEG        0  \n",
              "8      violencia política de género    NEG        1  \n",
              "9   no violencia política de género    NEG        0  \n",
              "10  no violencia política de género    NEG        0  \n",
              "11  no violencia política de género    NEU        0  \n",
              "12     violencia política de género    NEG        1  \n",
              "13  no violencia política de género    NEG        0  \n",
              "14  no violencia política de género    NEU        0  \n",
              "15  no violencia política de género    NEG        0  \n",
              "16  no violencia política de género    NEG        0  \n",
              "17     violencia política de género    NEG        1  \n",
              "18     violencia política de género    NEG        1  \n",
              "19     violencia política de género    NEG        1  "
            ],
            "text/html": [
              "\n",
              "  <div id=\"df-191018ad-bf0b-4ffa-a69a-e32081cbb1c0\">\n",
              "    <div class=\"colab-df-container\">\n",
              "      <div>\n",
              "<style scoped>\n",
              "    .dataframe tbody tr th:only-of-type {\n",
              "        vertical-align: middle;\n",
              "    }\n",
              "\n",
              "    .dataframe tbody tr th {\n",
              "        vertical-align: top;\n",
              "    }\n",
              "\n",
              "    .dataframe thead th {\n",
              "        text-align: right;\n",
              "    }\n",
              "</style>\n",
              "<table border=\"1\" class=\"dataframe\">\n",
              "  <thead>\n",
              "    <tr style=\"text-align: right;\">\n",
              "      <th></th>\n",
              "      <th>id</th>\n",
              "      <th>text</th>\n",
              "      <th>task</th>\n",
              "      <th>labels</th>\n",
              "      <th>compare</th>\n",
              "    </tr>\n",
              "  </thead>\n",
              "  <tbody>\n",
              "    <tr>\n",
              "      <th>0</th>\n",
              "      <td>0</td>\n",
              "      <td>las glosas de muñoz que se quede para financia...</td>\n",
              "      <td>no violencia política de género</td>\n",
              "      <td>NEG</td>\n",
              "      <td>0</td>\n",
              "    </tr>\n",
              "    <tr>\n",
              "      <th>1</th>\n",
              "      <td>1</td>\n",
              "      <td>usted pavel un gran alcalde</td>\n",
              "      <td>no violencia política de género</td>\n",
              "      <td>POS</td>\n",
              "      <td>0</td>\n",
              "    </tr>\n",
              "    <tr>\n",
              "      <th>2</th>\n",
              "      <td>2</td>\n",
              "      <td>dígame una ley que hacen desde la asamblea par...</td>\n",
              "      <td>no violencia política de género</td>\n",
              "      <td>NEG</td>\n",
              "      <td>0</td>\n",
              "    </tr>\n",
              "    <tr>\n",
              "      <th>3</th>\n",
              "      <td>3</td>\n",
              "      <td>el dinero de los afiliados al iess que desapar...</td>\n",
              "      <td>no violencia política de género</td>\n",
              "      <td>NEU</td>\n",
              "      <td>0</td>\n",
              "    </tr>\n",
              "    <tr>\n",
              "      <th>4</th>\n",
              "      <td>4</td>\n",
              "      <td>de este caso me estaba acordando</td>\n",
              "      <td>no violencia política de género</td>\n",
              "      <td>NEU</td>\n",
              "      <td>0</td>\n",
              "    </tr>\n",
              "    <tr>\n",
              "      <th>5</th>\n",
              "      <td>5</td>\n",
              "      <td>ojalá no sea la misma innovación de la roboluc...</td>\n",
              "      <td>no violencia política de género</td>\n",
              "      <td>NEG</td>\n",
              "      <td>0</td>\n",
              "    </tr>\n",
              "    <tr>\n",
              "      <th>6</th>\n",
              "      <td>6</td>\n",
              "      <td>habló la que se ganó tres veces la lotería</td>\n",
              "      <td>no violencia política de género</td>\n",
              "      <td>NEU</td>\n",
              "      <td>0</td>\n",
              "    </tr>\n",
              "    <tr>\n",
              "      <th>7</th>\n",
              "      <td>7</td>\n",
              "      <td>recuerda ese argentino que le dieron tremendo ...</td>\n",
              "      <td>no violencia política de género</td>\n",
              "      <td>NEG</td>\n",
              "      <td>0</td>\n",
              "    </tr>\n",
              "    <tr>\n",
              "      <th>8</th>\n",
              "      <td>8</td>\n",
              "      <td>pierrina calladita tu hermano es el que ha sac...</td>\n",
              "      <td>violencia política de género</td>\n",
              "      <td>NEG</td>\n",
              "      <td>1</td>\n",
              "    </tr>\n",
              "    <tr>\n",
              "      <th>9</th>\n",
              "      <td>9</td>\n",
              "      <td>siempre sido asi los únicos que se llenan los ...</td>\n",
              "      <td>no violencia política de género</td>\n",
              "      <td>NEG</td>\n",
              "      <td>0</td>\n",
              "    </tr>\n",
              "    <tr>\n",
              "      <th>10</th>\n",
              "      <td>10</td>\n",
              "      <td>así es estimada asambleísta de nada sirve tene...</td>\n",
              "      <td>no violencia política de género</td>\n",
              "      <td>NEG</td>\n",
              "      <td>0</td>\n",
              "    </tr>\n",
              "    <tr>\n",
              "      <th>11</th>\n",
              "      <td>11</td>\n",
              "      <td>jajajajaja jajajajaja todavia crítica</td>\n",
              "      <td>no violencia política de género</td>\n",
              "      <td>NEU</td>\n",
              "      <td>0</td>\n",
              "    </tr>\n",
              "    <tr>\n",
              "      <th>12</th>\n",
              "      <td>12</td>\n",
              "      <td>dejen de robar</td>\n",
              "      <td>violencia política de género</td>\n",
              "      <td>NEG</td>\n",
              "      <td>1</td>\n",
              "    </tr>\n",
              "    <tr>\n",
              "      <th>13</th>\n",
              "      <td>13</td>\n",
              "      <td>rc nefastos destruyeron la patria</td>\n",
              "      <td>no violencia política de género</td>\n",
              "      <td>NEG</td>\n",
              "      <td>0</td>\n",
              "    </tr>\n",
              "    <tr>\n",
              "      <th>14</th>\n",
              "      <td>14</td>\n",
              "      <td>asi mas claro</td>\n",
              "      <td>no violencia política de género</td>\n",
              "      <td>NEU</td>\n",
              "      <td>0</td>\n",
              "    </tr>\n",
              "    <tr>\n",
              "      <th>15</th>\n",
              "      <td>15</td>\n",
              "      <td>creativos esa propaganda la utilizó jamil maha...</td>\n",
              "      <td>no violencia política de género</td>\n",
              "      <td>NEG</td>\n",
              "      <td>0</td>\n",
              "    </tr>\n",
              "    <tr>\n",
              "      <th>16</th>\n",
              "      <td>16</td>\n",
              "      <td>que asco jamás</td>\n",
              "      <td>no violencia política de género</td>\n",
              "      <td>NEG</td>\n",
              "      <td>0</td>\n",
              "    </tr>\n",
              "    <tr>\n",
              "      <th>17</th>\n",
              "      <td>17</td>\n",
              "      <td>no deseo ser ofensivo pero eres parte de este ...</td>\n",
              "      <td>violencia política de género</td>\n",
              "      <td>NEG</td>\n",
              "      <td>1</td>\n",
              "    </tr>\n",
              "    <tr>\n",
              "      <th>18</th>\n",
              "      <td>18</td>\n",
              "      <td>vergüenza debe de darte por escribir tanta inc...</td>\n",
              "      <td>violencia política de género</td>\n",
              "      <td>NEG</td>\n",
              "      <td>1</td>\n",
              "    </tr>\n",
              "    <tr>\n",
              "      <th>19</th>\n",
              "      <td>19</td>\n",
              "      <td>nuestra apuesta es que no vas ganar ni experie...</td>\n",
              "      <td>violencia política de género</td>\n",
              "      <td>NEG</td>\n",
              "      <td>1</td>\n",
              "    </tr>\n",
              "  </tbody>\n",
              "</table>\n",
              "</div>\n",
              "      <button class=\"colab-df-convert\" onclick=\"convertToInteractive('df-191018ad-bf0b-4ffa-a69a-e32081cbb1c0')\"\n",
              "              title=\"Convert this dataframe to an interactive table.\"\n",
              "              style=\"display:none;\">\n",
              "        \n",
              "  <svg xmlns=\"http://www.w3.org/2000/svg\" height=\"24px\"viewBox=\"0 0 24 24\"\n",
              "       width=\"24px\">\n",
              "    <path d=\"M0 0h24v24H0V0z\" fill=\"none\"/>\n",
              "    <path d=\"M18.56 5.44l.94 2.06.94-2.06 2.06-.94-2.06-.94-.94-2.06-.94 2.06-2.06.94zm-11 1L8.5 8.5l.94-2.06 2.06-.94-2.06-.94L8.5 2.5l-.94 2.06-2.06.94zm10 10l.94 2.06.94-2.06 2.06-.94-2.06-.94-.94-2.06-.94 2.06-2.06.94z\"/><path d=\"M17.41 7.96l-1.37-1.37c-.4-.4-.92-.59-1.43-.59-.52 0-1.04.2-1.43.59L10.3 9.45l-7.72 7.72c-.78.78-.78 2.05 0 2.83L4 21.41c.39.39.9.59 1.41.59.51 0 1.02-.2 1.41-.59l7.78-7.78 2.81-2.81c.8-.78.8-2.07 0-2.86zM5.41 20L4 18.59l7.72-7.72 1.47 1.35L5.41 20z\"/>\n",
              "  </svg>\n",
              "      </button>\n",
              "      \n",
              "  <style>\n",
              "    .colab-df-container {\n",
              "      display:flex;\n",
              "      flex-wrap:wrap;\n",
              "      gap: 12px;\n",
              "    }\n",
              "\n",
              "    .colab-df-convert {\n",
              "      background-color: #E8F0FE;\n",
              "      border: none;\n",
              "      border-radius: 50%;\n",
              "      cursor: pointer;\n",
              "      display: none;\n",
              "      fill: #1967D2;\n",
              "      height: 32px;\n",
              "      padding: 0 0 0 0;\n",
              "      width: 32px;\n",
              "    }\n",
              "\n",
              "    .colab-df-convert:hover {\n",
              "      background-color: #E2EBFA;\n",
              "      box-shadow: 0px 1px 2px rgba(60, 64, 67, 0.3), 0px 1px 3px 1px rgba(60, 64, 67, 0.15);\n",
              "      fill: #174EA6;\n",
              "    }\n",
              "\n",
              "    [theme=dark] .colab-df-convert {\n",
              "      background-color: #3B4455;\n",
              "      fill: #D2E3FC;\n",
              "    }\n",
              "\n",
              "    [theme=dark] .colab-df-convert:hover {\n",
              "      background-color: #434B5C;\n",
              "      box-shadow: 0px 1px 3px 1px rgba(0, 0, 0, 0.15);\n",
              "      filter: drop-shadow(0px 1px 2px rgba(0, 0, 0, 0.3));\n",
              "      fill: #FFFFFF;\n",
              "    }\n",
              "  </style>\n",
              "\n",
              "      <script>\n",
              "        const buttonEl =\n",
              "          document.querySelector('#df-191018ad-bf0b-4ffa-a69a-e32081cbb1c0 button.colab-df-convert');\n",
              "        buttonEl.style.display =\n",
              "          google.colab.kernel.accessAllowed ? 'block' : 'none';\n",
              "\n",
              "        async function convertToInteractive(key) {\n",
              "          const element = document.querySelector('#df-191018ad-bf0b-4ffa-a69a-e32081cbb1c0');\n",
              "          const dataTable =\n",
              "            await google.colab.kernel.invokeFunction('convertToInteractive',\n",
              "                                                     [key], {});\n",
              "          if (!dataTable) return;\n",
              "\n",
              "          const docLinkHtml = 'Like what you see? Visit the ' +\n",
              "            '<a target=\"_blank\" href=https://colab.research.google.com/notebooks/data_table.ipynb>data table notebook</a>'\n",
              "            + ' to learn more about interactive tables.';\n",
              "          element.innerHTML = '';\n",
              "          dataTable['output_type'] = 'display_data';\n",
              "          await google.colab.output.renderOutput(dataTable, element);\n",
              "          const docLink = document.createElement('div');\n",
              "          docLink.innerHTML = docLinkHtml;\n",
              "          element.appendChild(docLink);\n",
              "        }\n",
              "      </script>\n",
              "    </div>\n",
              "  </div>\n",
              "  "
            ]
          },
          "metadata": {},
          "execution_count": 11
        }
      ]
    },
    {
      "cell_type": "code",
      "source": [
        "for i in range(0, len(df)):\n",
        "  if df['labels'][i] == 'POS' and df['task'][i][:9] == 'violencia':\n",
        "    print(df['id'][i],df['text'][i],df['labels'][i], ' ', df['task'][i])"
      ],
      "metadata": {
        "colab": {
          "base_uri": "https://localhost:8080/"
        },
        "id": "wtB3QFOsIYbs",
        "outputId": "7d651043-05a5-4ce8-9be1-d5886192536d"
      },
      "execution_count": 12,
      "outputs": [
        {
          "output_type": "stream",
          "name": "stdout",
          "text": [
            "2718 honrada buena broma POS   violencia política de género\n",
            "3231 felicitaciones le ha dicho una gran verdad esta borrega sanduchera POS   violencia política de género\n",
            "3269 delincuente seguro esta obra no tiene sobreprecio tiene material de calidad POS   violencia política de género\n",
            "4122 delira POS   violencia política de género\n",
            "4256 esta borrega si que es una bestia POS   violencia política de género\n",
            "8857 juntos podemos robar más POS   violencia política de género\n",
            "9183 que viva eternamente sin lacras correistas POS   violencia política de género\n",
            "9621 guayaquil es una ciudad hermosa siempre borrega no solo en tiempos de política POS   violencia política de género\n",
            "10262 que lindo es entrar ver cómo te arremangan cada vez rebuznas POS   violencia política de género\n",
            "16344 si muy bien testaferra POS   violencia política de género\n",
            "17120 buen dicho mi oveja tetona POS   violencia política de género\n",
            "17292 entre delincuentes se apoyan qué tiernos POS   violencia política de género\n",
            "17749 el provecho mi trompuda le entra por atrás tranquila lo disfruta muy bien el negrito del watssaap es muy provechoso POS   violencia política de género\n",
            "17782 devuelva lo robado ahí si será buen provecho POS   violencia política de género\n",
            "18491 disfrutando lo robado POS   violencia política de género\n"
          ]
        }
      ]
    },
    {
      "cell_type": "code",
      "source": [
        "data_labels['task'].value_counts()"
      ],
      "metadata": {
        "colab": {
          "base_uri": "https://localhost:8080/"
        },
        "id": "odKocQiUEmRq",
        "outputId": "600adc14-221c-4063-abff-b90272c20a9f"
      },
      "execution_count": 13,
      "outputs": [
        {
          "output_type": "execute_result",
          "data": {
            "text/plain": [
              "no violencia política de género    16045\n",
              "violencia política de género        3610\n",
              "Name: task, dtype: int64"
            ]
          },
          "metadata": {},
          "execution_count": 13
        }
      ]
    },
    {
      "cell_type": "code",
      "source": [
        "df['compare'].value_counts()"
      ],
      "metadata": {
        "colab": {
          "base_uri": "https://localhost:8080/"
        },
        "id": "s23ncnVLD7U3",
        "outputId": "34f65fc0-87e8-41c2-cd87-1fd995db6635"
      },
      "execution_count": 14,
      "outputs": [
        {
          "output_type": "execute_result",
          "data": {
            "text/plain": [
              "0    16353\n",
              "1     3302\n",
              "Name: compare, dtype: int64"
            ]
          },
          "metadata": {},
          "execution_count": 14
        }
      ]
    },
    {
      "cell_type": "code",
      "source": [
        "print((3302*100)/3610)"
      ],
      "metadata": {
        "colab": {
          "base_uri": "https://localhost:8080/"
        },
        "id": "5p96J5HPFjPT",
        "outputId": "2b05283b-3750-43b7-b66d-611c34803b7e"
      },
      "execution_count": 15,
      "outputs": [
        {
          "output_type": "stream",
          "name": "stdout",
          "text": [
            "91.46814404432133\n"
          ]
        }
      ]
    },
    {
      "cell_type": "code",
      "source": [
        "df.to_csv('/content/drive/MyDrive/ViolenciaPoíticaDeGénero/Transformación/validacion.csv',index=False)"
      ],
      "metadata": {
        "id": "gc2OSCDGEUsZ"
      },
      "execution_count": null,
      "outputs": []
    }
  ]
}