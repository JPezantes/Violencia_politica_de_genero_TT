{
  "nbformat": 4,
  "nbformat_minor": 0,
  "metadata": {
    "colab": {
      "provenance": []
    },
    "kernelspec": {
      "name": "python3",
      "display_name": "Python 3"
    },
    "language_info": {
      "name": "python"
    },
    "gpuClass": "standard"
  },
  "cells": [
    {
      "cell_type": "markdown",
      "source": [
        "# **Balanceo del dataset usando la técnica Undersampling**\n",
        "\n",
        "> Elimina aleatoriamente ejemplos de la clase mayoritaria en el conjunto de datos.\n",
        "\n"
      ],
      "metadata": {
        "id": "9xMCTakkVb_l"
      }
    },
    {
      "cell_type": "markdown",
      "source": [
        "Importar dependencias"
      ],
      "metadata": {
        "id": "Ur6tntRsXbzN"
      }
    },
    {
      "cell_type": "code",
      "source": [
        "import pandas as pd"
      ],
      "metadata": {
        "id": "MowIPjKsKz5T"
      },
      "execution_count": null,
      "outputs": []
    },
    {
      "cell_type": "code",
      "source": [
        "import matplotlib.pyplot as plt"
      ],
      "metadata": {
        "id": "4vF9r8g6XLPV"
      },
      "execution_count": null,
      "outputs": []
    },
    {
      "cell_type": "code",
      "source": [
        "from imblearn.under_sampling import RandomUnderSampler"
      ],
      "metadata": {
        "id": "OvlkfKYtXLvL"
      },
      "execution_count": null,
      "outputs": []
    },
    {
      "cell_type": "markdown",
      "source": [
        "Cargar Dataset"
      ],
      "metadata": {
        "id": "DgtX3u-oX41z"
      }
    },
    {
      "cell_type": "code",
      "source": [
        "from google.colab import drive\n",
        "drive.mount('/content/drive')"
      ],
      "metadata": {
        "colab": {
          "base_uri": "https://localhost:8080/"
        },
        "id": "DgI5zySuMlkS",
        "outputId": "1c8dbc2f-6cb3-4a27-d673-1b33e5812643"
      },
      "execution_count": null,
      "outputs": [
        {
          "output_type": "stream",
          "name": "stdout",
          "text": [
            "Mounted at /content/drive\n"
          ]
        }
      ]
    },
    {
      "cell_type": "code",
      "source": [
        "datos=pd.read_csv('/content/drive/MyDrive/ViolenciaPoíticaDeGénero/Transformación/data_clean_clasificado.csv')\n",
        "datos.dropna(inplace = True)\n",
        "datos.head(10)"
      ],
      "metadata": {
        "colab": {
          "base_uri": "https://localhost:8080/",
          "height": 363
        },
        "id": "9m2sgUDmtiti",
        "outputId": "0407b228-b314-4d46-fbd3-7ee2e1c44942"
      },
      "execution_count": null,
      "outputs": [
        {
          "output_type": "execute_result",
          "data": {
            "text/plain": [
              "   id                                               text  \\\n",
              "0   0  las glosas de muñoz que se quede para financia...   \n",
              "1   1                        usted pavel un gran alcalde   \n",
              "2   2  dígame una ley que hacen desde la asamblea par...   \n",
              "3   3  el dinero de los afiliados al iess que desapar...   \n",
              "4   4                   de este caso me estaba acordando   \n",
              "5   5  ojalá no sea la misma innovación de la roboluc...   \n",
              "6   6         habló la que se ganó tres veces la lotería   \n",
              "7   7  recuerda ese argentino que le dieron tremendo ...   \n",
              "8   8  pierrina calladita tu hermano es el que ha sac...   \n",
              "9   9  siempre sido asi los únicos que se llenan los ...   \n",
              "\n",
              "                              task  \n",
              "0  no violencia política de género  \n",
              "1  no violencia política de género  \n",
              "2  no violencia política de género  \n",
              "3  no violencia política de género  \n",
              "4  no violencia política de género  \n",
              "5  no violencia política de género  \n",
              "6  no violencia política de género  \n",
              "7  no violencia política de género  \n",
              "8     violencia política de género  \n",
              "9  no violencia política de género  "
            ],
            "text/html": [
              "\n",
              "  <div id=\"df-265ed199-c39c-4f70-b4fd-bb97b0b50816\">\n",
              "    <div class=\"colab-df-container\">\n",
              "      <div>\n",
              "<style scoped>\n",
              "    .dataframe tbody tr th:only-of-type {\n",
              "        vertical-align: middle;\n",
              "    }\n",
              "\n",
              "    .dataframe tbody tr th {\n",
              "        vertical-align: top;\n",
              "    }\n",
              "\n",
              "    .dataframe thead th {\n",
              "        text-align: right;\n",
              "    }\n",
              "</style>\n",
              "<table border=\"1\" class=\"dataframe\">\n",
              "  <thead>\n",
              "    <tr style=\"text-align: right;\">\n",
              "      <th></th>\n",
              "      <th>id</th>\n",
              "      <th>text</th>\n",
              "      <th>task</th>\n",
              "    </tr>\n",
              "  </thead>\n",
              "  <tbody>\n",
              "    <tr>\n",
              "      <th>0</th>\n",
              "      <td>0</td>\n",
              "      <td>las glosas de muñoz que se quede para financia...</td>\n",
              "      <td>no violencia política de género</td>\n",
              "    </tr>\n",
              "    <tr>\n",
              "      <th>1</th>\n",
              "      <td>1</td>\n",
              "      <td>usted pavel un gran alcalde</td>\n",
              "      <td>no violencia política de género</td>\n",
              "    </tr>\n",
              "    <tr>\n",
              "      <th>2</th>\n",
              "      <td>2</td>\n",
              "      <td>dígame una ley que hacen desde la asamblea par...</td>\n",
              "      <td>no violencia política de género</td>\n",
              "    </tr>\n",
              "    <tr>\n",
              "      <th>3</th>\n",
              "      <td>3</td>\n",
              "      <td>el dinero de los afiliados al iess que desapar...</td>\n",
              "      <td>no violencia política de género</td>\n",
              "    </tr>\n",
              "    <tr>\n",
              "      <th>4</th>\n",
              "      <td>4</td>\n",
              "      <td>de este caso me estaba acordando</td>\n",
              "      <td>no violencia política de género</td>\n",
              "    </tr>\n",
              "    <tr>\n",
              "      <th>5</th>\n",
              "      <td>5</td>\n",
              "      <td>ojalá no sea la misma innovación de la roboluc...</td>\n",
              "      <td>no violencia política de género</td>\n",
              "    </tr>\n",
              "    <tr>\n",
              "      <th>6</th>\n",
              "      <td>6</td>\n",
              "      <td>habló la que se ganó tres veces la lotería</td>\n",
              "      <td>no violencia política de género</td>\n",
              "    </tr>\n",
              "    <tr>\n",
              "      <th>7</th>\n",
              "      <td>7</td>\n",
              "      <td>recuerda ese argentino que le dieron tremendo ...</td>\n",
              "      <td>no violencia política de género</td>\n",
              "    </tr>\n",
              "    <tr>\n",
              "      <th>8</th>\n",
              "      <td>8</td>\n",
              "      <td>pierrina calladita tu hermano es el que ha sac...</td>\n",
              "      <td>violencia política de género</td>\n",
              "    </tr>\n",
              "    <tr>\n",
              "      <th>9</th>\n",
              "      <td>9</td>\n",
              "      <td>siempre sido asi los únicos que se llenan los ...</td>\n",
              "      <td>no violencia política de género</td>\n",
              "    </tr>\n",
              "  </tbody>\n",
              "</table>\n",
              "</div>\n",
              "      <button class=\"colab-df-convert\" onclick=\"convertToInteractive('df-265ed199-c39c-4f70-b4fd-bb97b0b50816')\"\n",
              "              title=\"Convert this dataframe to an interactive table.\"\n",
              "              style=\"display:none;\">\n",
              "        \n",
              "  <svg xmlns=\"http://www.w3.org/2000/svg\" height=\"24px\"viewBox=\"0 0 24 24\"\n",
              "       width=\"24px\">\n",
              "    <path d=\"M0 0h24v24H0V0z\" fill=\"none\"/>\n",
              "    <path d=\"M18.56 5.44l.94 2.06.94-2.06 2.06-.94-2.06-.94-.94-2.06-.94 2.06-2.06.94zm-11 1L8.5 8.5l.94-2.06 2.06-.94-2.06-.94L8.5 2.5l-.94 2.06-2.06.94zm10 10l.94 2.06.94-2.06 2.06-.94-2.06-.94-.94-2.06-.94 2.06-2.06.94z\"/><path d=\"M17.41 7.96l-1.37-1.37c-.4-.4-.92-.59-1.43-.59-.52 0-1.04.2-1.43.59L10.3 9.45l-7.72 7.72c-.78.78-.78 2.05 0 2.83L4 21.41c.39.39.9.59 1.41.59.51 0 1.02-.2 1.41-.59l7.78-7.78 2.81-2.81c.8-.78.8-2.07 0-2.86zM5.41 20L4 18.59l7.72-7.72 1.47 1.35L5.41 20z\"/>\n",
              "  </svg>\n",
              "      </button>\n",
              "      \n",
              "  <style>\n",
              "    .colab-df-container {\n",
              "      display:flex;\n",
              "      flex-wrap:wrap;\n",
              "      gap: 12px;\n",
              "    }\n",
              "\n",
              "    .colab-df-convert {\n",
              "      background-color: #E8F0FE;\n",
              "      border: none;\n",
              "      border-radius: 50%;\n",
              "      cursor: pointer;\n",
              "      display: none;\n",
              "      fill: #1967D2;\n",
              "      height: 32px;\n",
              "      padding: 0 0 0 0;\n",
              "      width: 32px;\n",
              "    }\n",
              "\n",
              "    .colab-df-convert:hover {\n",
              "      background-color: #E2EBFA;\n",
              "      box-shadow: 0px 1px 2px rgba(60, 64, 67, 0.3), 0px 1px 3px 1px rgba(60, 64, 67, 0.15);\n",
              "      fill: #174EA6;\n",
              "    }\n",
              "\n",
              "    [theme=dark] .colab-df-convert {\n",
              "      background-color: #3B4455;\n",
              "      fill: #D2E3FC;\n",
              "    }\n",
              "\n",
              "    [theme=dark] .colab-df-convert:hover {\n",
              "      background-color: #434B5C;\n",
              "      box-shadow: 0px 1px 3px 1px rgba(0, 0, 0, 0.15);\n",
              "      filter: drop-shadow(0px 1px 2px rgba(0, 0, 0, 0.3));\n",
              "      fill: #FFFFFF;\n",
              "    }\n",
              "  </style>\n",
              "\n",
              "      <script>\n",
              "        const buttonEl =\n",
              "          document.querySelector('#df-265ed199-c39c-4f70-b4fd-bb97b0b50816 button.colab-df-convert');\n",
              "        buttonEl.style.display =\n",
              "          google.colab.kernel.accessAllowed ? 'block' : 'none';\n",
              "\n",
              "        async function convertToInteractive(key) {\n",
              "          const element = document.querySelector('#df-265ed199-c39c-4f70-b4fd-bb97b0b50816');\n",
              "          const dataTable =\n",
              "            await google.colab.kernel.invokeFunction('convertToInteractive',\n",
              "                                                     [key], {});\n",
              "          if (!dataTable) return;\n",
              "\n",
              "          const docLinkHtml = 'Like what you see? Visit the ' +\n",
              "            '<a target=\"_blank\" href=https://colab.research.google.com/notebooks/data_table.ipynb>data table notebook</a>'\n",
              "            + ' to learn more about interactive tables.';\n",
              "          element.innerHTML = '';\n",
              "          dataTable['output_type'] = 'display_data';\n",
              "          await google.colab.output.renderOutput(dataTable, element);\n",
              "          const docLink = document.createElement('div');\n",
              "          docLink.innerHTML = docLinkHtml;\n",
              "          element.appendChild(docLink);\n",
              "        }\n",
              "      </script>\n",
              "    </div>\n",
              "  </div>\n",
              "  "
            ]
          },
          "metadata": {},
          "execution_count": 5
        }
      ]
    },
    {
      "cell_type": "code",
      "source": [
        "datos['task'].value_counts()"
      ],
      "metadata": {
        "colab": {
          "base_uri": "https://localhost:8080/"
        },
        "id": "C83nVHQPY2sD",
        "outputId": "26a34cd7-04f4-48bc-8b00-73db46f80b45"
      },
      "execution_count": null,
      "outputs": [
        {
          "output_type": "execute_result",
          "data": {
            "text/plain": [
              "no violencia política de género    16045\n",
              "violencia política de género        3610\n",
              "Name: task, dtype: int64"
            ]
          },
          "metadata": {},
          "execution_count": 6
        }
      ]
    },
    {
      "cell_type": "code",
      "source": [
        "datos.groupby('task')['id'].nunique().plot(kind='bar',title='Gráfica de numero de tweets que pertencen a clases particulares')"
      ],
      "metadata": {
        "colab": {
          "base_uri": "https://localhost:8080/",
          "height": 456
        },
        "id": "d7jAnjOQZGiD",
        "outputId": "a8076dc7-3cd9-44b6-a1cd-2fa9b8f84454"
      },
      "execution_count": null,
      "outputs": [
        {
          "output_type": "execute_result",
          "data": {
            "text/plain": [
              "<matplotlib.axes._subplots.AxesSubplot at 0x7f3edb953250>"
            ]
          },
          "metadata": {},
          "execution_count": 7
        },
        {
          "output_type": "display_data",
          "data": {
            "text/plain": [
              "<Figure size 432x288 with 1 Axes>"
            ],
            "image/png": "[encoded data removed]"
          },
          "metadata": {
            "needs_background": "light"
          }
        }
      ]
    },
    {
      "cell_type": "markdown",
      "source": [
        "#Undersampling"
      ],
      "metadata": {
        "id": "kGc9pCGnX97D"
      }
    },
    {
      "cell_type": "markdown",
      "source": [
        "Cambio de str a int"
      ],
      "metadata": {
        "id": "eRmHRRLMYD3N"
      }
    },
    {
      "cell_type": "code",
      "source": [
        "data = pd.DataFrame({'id': datos['id'], 'text': datos['text'], 'task': datos['task'] })\n",
        "data.head(10)"
      ],
      "metadata": {
        "id": "HJWCeMDTzzeC"
      },
      "execution_count": null,
      "outputs": []
    },
    {
      "cell_type": "code",
      "source": [
        "labels = []\n",
        "for i in range(len(data)):\n",
        "  if data['task'][i][:9] == 'violencia':\n",
        "    labels.append(1)\n",
        "  else:\n",
        "    labels.append(0)"
      ],
      "metadata": {
        "id": "5QGrQ2tF_C4Y"
      },
      "execution_count": null,
      "outputs": []
    },
    {
      "cell_type": "code",
      "source": [
        "df = pd.DataFrame({'id': datos['id'], 'text': datos['text'], 'task': datos['task'], 'labels': labels})\n",
        "df.head(20)"
      ],
      "metadata": {
        "colab": {
          "base_uri": "https://localhost:8080/",
          "height": 676
        },
        "id": "7jWD7QKKDPV7",
        "outputId": "07d22780-c6e8-436c-e2f7-0d69b4ca74f1"
      },
      "execution_count": null,
      "outputs": [
        {
          "output_type": "execute_result",
          "data": {
            "text/plain": [
              "    id                                               text  \\\n",
              "0    0  las glosas de muñoz que se quede para financia...   \n",
              "1    1                        usted pavel un gran alcalde   \n",
              "2    2  dígame una ley que hacen desde la asamblea par...   \n",
              "3    3  el dinero de los afiliados al iess que desapar...   \n",
              "4    4                   de este caso me estaba acordando   \n",
              "5    5  ojalá no sea la misma innovación de la roboluc...   \n",
              "6    6         habló la que se ganó tres veces la lotería   \n",
              "7    7  recuerda ese argentino que le dieron tremendo ...   \n",
              "8    8  pierrina calladita tu hermano es el que ha sac...   \n",
              "9    9  siempre sido asi los únicos que se llenan los ...   \n",
              "10  10  así es estimada asambleísta de nada sirve tene...   \n",
              "11  11              jajajajaja jajajajaja todavia crítica   \n",
              "12  12                                     dejen de robar   \n",
              "13  13                  rc nefastos destruyeron la patria   \n",
              "14  14                                      asi mas claro   \n",
              "15  15  creativos esa propaganda la utilizó jamil maha...   \n",
              "16  16                                     que asco jamás   \n",
              "17  17  no deseo ser ofensivo pero eres parte de este ...   \n",
              "18  18  vergüenza debe de darte por escribir tanta inc...   \n",
              "19  19  nuestra apuesta es que no vas ganar ni experie...   \n",
              "\n",
              "                               task  labels  \n",
              "0   no violencia política de género       0  \n",
              "1   no violencia política de género       0  \n",
              "2   no violencia política de género       0  \n",
              "3   no violencia política de género       0  \n",
              "4   no violencia política de género       0  \n",
              "5   no violencia política de género       0  \n",
              "6   no violencia política de género       0  \n",
              "7   no violencia política de género       0  \n",
              "8      violencia política de género       1  \n",
              "9   no violencia política de género       0  \n",
              "10  no violencia política de género       0  \n",
              "11  no violencia política de género       0  \n",
              "12     violencia política de género       1  \n",
              "13  no violencia política de género       0  \n",
              "14  no violencia política de género       0  \n",
              "15  no violencia política de género       0  \n",
              "16  no violencia política de género       0  \n",
              "17     violencia política de género       1  \n",
              "18     violencia política de género       1  \n",
              "19     violencia política de género       1  "
            ],
            "text/html": [
              "\n",
              "  <div id=\"df-68229d9f-7569-4658-acb4-2c5c95185398\">\n",
              "    <div class=\"colab-df-container\">\n",
              "      <div>\n",
              "<style scoped>\n",
              "    .dataframe tbody tr th:only-of-type {\n",
              "        vertical-align: middle;\n",
              "    }\n",
              "\n",
              "    .dataframe tbody tr th {\n",
              "        vertical-align: top;\n",
              "    }\n",
              "\n",
              "    .dataframe thead th {\n",
              "        text-align: right;\n",
              "    }\n",
              "</style>\n",
              "<table border=\"1\" class=\"dataframe\">\n",
              "  <thead>\n",
              "    <tr style=\"text-align: right;\">\n",
              "      <th></th>\n",
              "      <th>id</th>\n",
              "      <th>text</th>\n",
              "      <th>task</th>\n",
              "      <th>labels</th>\n",
              "    </tr>\n",
              "  </thead>\n",
              "  <tbody>\n",
              "    <tr>\n",
              "      <th>0</th>\n",
              "      <td>0</td>\n",
              "      <td>las glosas de muñoz que se quede para financia...</td>\n",
              "      <td>no violencia política de género</td>\n",
              "      <td>0</td>\n",
              "    </tr>\n",
              "    <tr>\n",
              "      <th>1</th>\n",
              "      <td>1</td>\n",
              "      <td>usted pavel un gran alcalde</td>\n",
              "      <td>no violencia política de género</td>\n",
              "      <td>0</td>\n",
              "    </tr>\n",
              "    <tr>\n",
              "      <th>2</th>\n",
              "      <td>2</td>\n",
              "      <td>dígame una ley que hacen desde la asamblea par...</td>\n",
              "      <td>no violencia política de género</td>\n",
              "      <td>0</td>\n",
              "    </tr>\n",
              "    <tr>\n",
              "      <th>3</th>\n",
              "      <td>3</td>\n",
              "      <td>el dinero de los afiliados al iess que desapar...</td>\n",
              "      <td>no violencia política de género</td>\n",
              "      <td>0</td>\n",
              "    </tr>\n",
              "    <tr>\n",
              "      <th>4</th>\n",
              "      <td>4</td>\n",
              "      <td>de este caso me estaba acordando</td>\n",
              "      <td>no violencia política de género</td>\n",
              "      <td>0</td>\n",
              "    </tr>\n",
              "    <tr>\n",
              "      <th>5</th>\n",
              "      <td>5</td>\n",
              "      <td>ojalá no sea la misma innovación de la roboluc...</td>\n",
              "      <td>no violencia política de género</td>\n",
              "      <td>0</td>\n",
              "    </tr>\n",
              "    <tr>\n",
              "      <th>6</th>\n",
              "      <td>6</td>\n",
              "      <td>habló la que se ganó tres veces la lotería</td>\n",
              "      <td>no violencia política de género</td>\n",
              "      <td>0</td>\n",
              "    </tr>\n",
              "    <tr>\n",
              "      <th>7</th>\n",
              "      <td>7</td>\n",
              "      <td>recuerda ese argentino que le dieron tremendo ...</td>\n",
              "      <td>no violencia política de género</td>\n",
              "      <td>0</td>\n",
              "    </tr>\n",
              "    <tr>\n",
              "      <th>8</th>\n",
              "      <td>8</td>\n",
              "      <td>pierrina calladita tu hermano es el que ha sac...</td>\n",
              "      <td>violencia política de género</td>\n",
              "      <td>1</td>\n",
              "    </tr>\n",
              "    <tr>\n",
              "      <th>9</th>\n",
              "      <td>9</td>\n",
              "      <td>siempre sido asi los únicos que se llenan los ...</td>\n",
              "      <td>no violencia política de género</td>\n",
              "      <td>0</td>\n",
              "    </tr>\n",
              "    <tr>\n",
              "      <th>10</th>\n",
              "      <td>10</td>\n",
              "      <td>así es estimada asambleísta de nada sirve tene...</td>\n",
              "      <td>no violencia política de género</td>\n",
              "      <td>0</td>\n",
              "    </tr>\n",
              "    <tr>\n",
              "      <th>11</th>\n",
              "      <td>11</td>\n",
              "      <td>jajajajaja jajajajaja todavia crítica</td>\n",
              "      <td>no violencia política de género</td>\n",
              "      <td>0</td>\n",
              "    </tr>\n",
              "    <tr>\n",
              "      <th>12</th>\n",
              "      <td>12</td>\n",
              "      <td>dejen de robar</td>\n",
              "      <td>violencia política de género</td>\n",
              "      <td>1</td>\n",
              "    </tr>\n",
              "    <tr>\n",
              "      <th>13</th>\n",
              "      <td>13</td>\n",
              "      <td>rc nefastos destruyeron la patria</td>\n",
              "      <td>no violencia política de género</td>\n",
              "      <td>0</td>\n",
              "    </tr>\n",
              "    <tr>\n",
              "      <th>14</th>\n",
              "      <td>14</td>\n",
              "      <td>asi mas claro</td>\n",
              "      <td>no violencia política de género</td>\n",
              "      <td>0</td>\n",
              "    </tr>\n",
              "    <tr>\n",
              "      <th>15</th>\n",
              "      <td>15</td>\n",
              "      <td>creativos esa propaganda la utilizó jamil maha...</td>\n",
              "      <td>no violencia política de género</td>\n",
              "      <td>0</td>\n",
              "    </tr>\n",
              "    <tr>\n",
              "      <th>16</th>\n",
              "      <td>16</td>\n",
              "      <td>que asco jamás</td>\n",
              "      <td>no violencia política de género</td>\n",
              "      <td>0</td>\n",
              "    </tr>\n",
              "    <tr>\n",
              "      <th>17</th>\n",
              "      <td>17</td>\n",
              "      <td>no deseo ser ofensivo pero eres parte de este ...</td>\n",
              "      <td>violencia política de género</td>\n",
              "      <td>1</td>\n",
              "    </tr>\n",
              "    <tr>\n",
              "      <th>18</th>\n",
              "      <td>18</td>\n",
              "      <td>vergüenza debe de darte por escribir tanta inc...</td>\n",
              "      <td>violencia política de género</td>\n",
              "      <td>1</td>\n",
              "    </tr>\n",
              "    <tr>\n",
              "      <th>19</th>\n",
              "      <td>19</td>\n",
              "      <td>nuestra apuesta es que no vas ganar ni experie...</td>\n",
              "      <td>violencia política de género</td>\n",
              "      <td>1</td>\n",
              "    </tr>\n",
              "  </tbody>\n",
              "</table>\n",
              "</div>\n",
              "      <button class=\"colab-df-convert\" onclick=\"convertToInteractive('df-68229d9f-7569-4658-acb4-2c5c95185398')\"\n",
              "              title=\"Convert this dataframe to an interactive table.\"\n",
              "              style=\"display:none;\">\n",
              "        \n",
              "  <svg xmlns=\"http://www.w3.org/2000/svg\" height=\"24px\"viewBox=\"0 0 24 24\"\n",
              "       width=\"24px\">\n",
              "    <path d=\"M0 0h24v24H0V0z\" fill=\"none\"/>\n",
              "    <path d=\"M18.56 5.44l.94 2.06.94-2.06 2.06-.94-2.06-.94-.94-2.06-.94 2.06-2.06.94zm-11 1L8.5 8.5l.94-2.06 2.06-.94-2.06-.94L8.5 2.5l-.94 2.06-2.06.94zm10 10l.94 2.06.94-2.06 2.06-.94-2.06-.94-.94-2.06-.94 2.06-2.06.94z\"/><path d=\"M17.41 7.96l-1.37-1.37c-.4-.4-.92-.59-1.43-.59-.52 0-1.04.2-1.43.59L10.3 9.45l-7.72 7.72c-.78.78-.78 2.05 0 2.83L4 21.41c.39.39.9.59 1.41.59.51 0 1.02-.2 1.41-.59l7.78-7.78 2.81-2.81c.8-.78.8-2.07 0-2.86zM5.41 20L4 18.59l7.72-7.72 1.47 1.35L5.41 20z\"/>\n",
              "  </svg>\n",
              "      </button>\n",
              "      \n",
              "  <style>\n",
              "    .colab-df-container {\n",
              "      display:flex;\n",
              "      flex-wrap:wrap;\n",
              "      gap: 12px;\n",
              "    }\n",
              "\n",
              "    .colab-df-convert {\n",
              "      background-color: #E8F0FE;\n",
              "      border: none;\n",
              "      border-radius: 50%;\n",
              "      cursor: pointer;\n",
              "      display: none;\n",
              "      fill: #1967D2;\n",
              "      height: 32px;\n",
              "      padding: 0 0 0 0;\n",
              "      width: 32px;\n",
              "    }\n",
              "\n",
              "    .colab-df-convert:hover {\n",
              "      background-color: #E2EBFA;\n",
              "      box-shadow: 0px 1px 2px rgba(60, 64, 67, 0.3), 0px 1px 3px 1px rgba(60, 64, 67, 0.15);\n",
              "      fill: #174EA6;\n",
              "    }\n",
              "\n",
              "    [theme=dark] .colab-df-convert {\n",
              "      background-color: #3B4455;\n",
              "      fill: #D2E3FC;\n",
              "    }\n",
              "\n",
              "    [theme=dark] .colab-df-convert:hover {\n",
              "      background-color: #434B5C;\n",
              "      box-shadow: 0px 1px 3px 1px rgba(0, 0, 0, 0.15);\n",
              "      filter: drop-shadow(0px 1px 2px rgba(0, 0, 0, 0.3));\n",
              "      fill: #FFFFFF;\n",
              "    }\n",
              "  </style>\n",
              "\n",
              "      <script>\n",
              "        const buttonEl =\n",
              "          document.querySelector('#df-68229d9f-7569-4658-acb4-2c5c95185398 button.colab-df-convert');\n",
              "        buttonEl.style.display =\n",
              "          google.colab.kernel.accessAllowed ? 'block' : 'none';\n",
              "\n",
              "        async function convertToInteractive(key) {\n",
              "          const element = document.querySelector('#df-68229d9f-7569-4658-acb4-2c5c95185398');\n",
              "          const dataTable =\n",
              "            await google.colab.kernel.invokeFunction('convertToInteractive',\n",
              "                                                     [key], {});\n",
              "          if (!dataTable) return;\n",
              "\n",
              "          const docLinkHtml = 'Like what you see? Visit the ' +\n",
              "            '<a target=\"_blank\" href=https://colab.research.google.com/notebooks/data_table.ipynb>data table notebook</a>'\n",
              "            + ' to learn more about interactive tables.';\n",
              "          element.innerHTML = '';\n",
              "          dataTable['output_type'] = 'display_data';\n",
              "          await google.colab.output.renderOutput(dataTable, element);\n",
              "          const docLink = document.createElement('div');\n",
              "          docLink.innerHTML = docLinkHtml;\n",
              "          element.appendChild(docLink);\n",
              "        }\n",
              "      </script>\n",
              "    </div>\n",
              "  </div>\n",
              "  "
            ]
          },
          "metadata": {},
          "execution_count": 10
        }
      ]
    },
    {
      "cell_type": "markdown",
      "source": [
        "Aplica Submuestreo aleatorio"
      ],
      "metadata": {
        "id": "1RT83svEYujL"
      }
    },
    {
      "cell_type": "code",
      "source": [
        "df_0_class = df[df['labels']==0]\n",
        "df_1_class = df[df['labels']==1]\n",
        "df_0_class_undersampled = df_0_class.sample(df_1_class.shape[0])\n",
        "df = pd.concat([df_0_class_undersampled, df_1_class], axis=0)"
      ],
      "metadata": {
        "id": "MNY8Wb3oP8RD"
      },
      "execution_count": null,
      "outputs": []
    },
    {
      "cell_type": "code",
      "source": [
        "df.groupby('task')['id'].count().plot(kind='bar',title='Gráfica de numero de tweets que pertencen a clases particulares')"
      ],
      "metadata": {
        "colab": {
          "base_uri": "https://localhost:8080/",
          "height": 456
        },
        "id": "MbgZtDeZYo0y",
        "outputId": "00f996b4-8a3b-4184-c63b-80de43204346"
      },
      "execution_count": null,
      "outputs": [
        {
          "output_type": "execute_result",
          "data": {
            "text/plain": [
              "<matplotlib.axes._subplots.AxesSubplot at 0x7f3edb8992e0>"
            ]
          },
          "metadata": {},
          "execution_count": 13
        },
        {
          "output_type": "display_data",
          "data": {
            "text/plain": [
              "<Figure size 432x288 with 1 Axes>"
            ],
            "image/png": "[encoded data removed]"
          },
          "metadata": {
            "needs_background": "light"
          }
        }
      ]
    },
    {
      "cell_type": "code",
      "source": [
        "df['labels'].value_counts()"
      ],
      "metadata": {
        "colab": {
          "base_uri": "https://localhost:8080/"
        },
        "id": "HOsUsPUBT4sj",
        "outputId": "8a14e801-0a06-4b3b-fd78-669ad1ecd777"
      },
      "execution_count": null,
      "outputs": [
        {
          "output_type": "execute_result",
          "data": {
            "text/plain": [
              "0    3610\n",
              "1    3610\n",
              "Name: labels, dtype: int64"
            ]
          },
          "metadata": {},
          "execution_count": 14
        }
      ]
    },
    {
      "cell_type": "code",
      "source": [
        "del(df['labels'])"
      ],
      "metadata": {
        "id": "o8NgeJFXE1g4"
      },
      "execution_count": null,
      "outputs": []
    },
    {
      "cell_type": "code",
      "source": [
        "df.to_csv('/content/drive/MyDrive/ViolenciaPoíticaDeGénero/DatosBalanceados.csv',index=False)"
      ],
      "metadata": {
        "id": "-iHvewdxD-TP"
      },
      "execution_count": null,
      "outputs": []
    }
  ]
}